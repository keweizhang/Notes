{
 "cells": [
  {
   "cell_type": "code",
   "execution_count": 1,
   "metadata": {},
   "outputs": [],
   "source": [
    "import pandas as pd\n",
    "import numpy as np"
   ]
  },
  {
   "cell_type": "code",
   "execution_count": null,
   "metadata": {},
   "outputs": [],
   "source": [
    "filename = 'FNC_AS_T29_F100_20210616.csv'"
   ]
  },
  {
   "cell_type": "code",
   "execution_count": 3,
   "metadata": {},
   "outputs": [
    {
     "data": {
      "text/plain": [
       "(array([1.1, 2.2, 3.3]), dtype('float64'))"
      ]
     },
     "execution_count": 3,
     "metadata": {},
     "output_type": "execute_result"
    }
   ],
   "source": [
    "b = [1.1, 2.2, 3.3]\n",
    "a = np.array(b)\n",
    "a, a.dtype"
   ]
  },
  {
   "cell_type": "code",
   "execution_count": 4,
   "metadata": {},
   "outputs": [
    {
     "data": {
      "text/plain": [
       "array([1.1, 2.2, 3.3])"
      ]
     },
     "execution_count": 4,
     "metadata": {},
     "output_type": "execute_result"
    }
   ],
   "source": [
    "a.astype(int)\n",
    "a"
   ]
  },
  {
   "cell_type": "code",
   "execution_count": 9,
   "metadata": {},
   "outputs": [],
   "source": [
    "# 导入LabVIEW保存的csv数据文件\n",
    "import os\n",
    "import pandas as pd\n",
    "# 用'FNC'开头识别数据文件，自动获取数据文件名\n",
    "filelist = [files for files in os.listdir() if files[0:3] == 'FNC']\n",
    "# 导入，对于属于同一组实验的几个数据文件也进行合并\n",
    "rawdata = pd.DataFrame()\n",
    "for filename in filelist:\n",
    "    tempdata = pd.read_csv(filename)\n",
    "    rawdata = rawdata.append(tempdata)\n",
    "\n",
    "cleandata = rawdata.loc[rawdata['Flag'] == 1]    \n"
   ]
  },
  {
   "cell_type": "code",
   "execution_count": 32,
   "metadata": {},
   "outputs": [],
   "source": [
    "import numpy as np\n",
    "from matplotlib import pyplot as plt\n",
    "%matplotlib inline"
   ]
  },
  {
   "cell_type": "code",
   "execution_count": 64,
   "metadata": {},
   "outputs": [],
   "source": [
    "# 获取记录的粒径信息\n",
    "Dd_list = cleandata.loc[:,'Dd']\n",
    "Dd_list = np.array(Dd_list.drop_duplicates())\n",
    "# 计算均值和标准偏差\n",
    "N = np.size(Dd_list)\n",
    "caliresult = np.zeros((N,4))\n",
    "for i in range(N):\n",
    "# for Dd in Dd_list:\n",
    "    # 提取一个粒径对应的数据\n",
    "    Dd = Dd_list[i]\n",
    "    tempdata = cleandata.loc[cleandata['Dd'] == Dd]\n",
    "    # plt.plot(tempdata[:,'Fact'])\n",
    "    # 剔除异常值（将与均值相差超过三倍标准差的元素定义为离群值）\n",
    "    Fact = np.mean(tempdata['Fact'])\n",
    "    Sigma = np.std(tempdata['Fact'])\n",
    "    # 切片判断时不能用and，需要用位运算符 &\n",
    "    single_Dd_data = tempdata.loc[\n",
    "        (tempdata['Fact'] > Fact-3*Sigma) & (tempdata['Fact'] < Fact+3*Sigma)]\n",
    "    \n",
    "    Fact = np.mean(single_Dd_data['Fact'])\n",
    "    Sigma = np.std(single_Dd_data['Fact'])\n",
    "    Flow = np.mean(single_Dd_data['CapillaryFlow'])\n",
    "\n",
    "    caliresult[i,:] = [Dd, Fact, Sigma, Flow]\n",
    "\n",
    "# 转化为df数据并保存csv文件    \n",
    "calidata = pd.DataFrame(caliresult, columns=['Dd','Fact','std','Flow'])\n",
    "calidata.to_csv('calidata.csv',index=False)"
   ]
  },
  {
   "cell_type": "code",
   "execution_count": 2,
   "metadata": {},
   "outputs": [],
   "source": [
    "# del FSSC_data\n",
    "from FSSC import FSSC_data\n",
    "AS = FSSC_data()\n",
    "C = AS.load_data()\n",
    "a = AS.rawdata\n",
    "b = AS.alldata\n",
    "# AS.clean_data()"
   ]
  },
  {
   "cell_type": "code",
   "execution_count": 3,
   "metadata": {},
   "outputs": [
    {
     "ename": "NameError",
     "evalue": "name 'A' is not defined",
     "output_type": "error",
     "traceback": [
      "\u001b[1;31m---------------------------------------------------------------------------\u001b[0m",
      "\u001b[1;31mNameError\u001b[0m                                 Traceback (most recent call last)",
      "\u001b[1;32m<ipython-input-3-8bb74d81fb43>\u001b[0m in \u001b[0;36m<module>\u001b[1;34m\u001b[0m\n\u001b[0;32m      2\u001b[0m \u001b[0mx\u001b[0m \u001b[1;33m=\u001b[0m \u001b[0ma\u001b[0m\u001b[1;33m[\u001b[0m\u001b[1;34m'Dd'\u001b[0m\u001b[1;33m]\u001b[0m\u001b[1;33m\u001b[0m\u001b[1;33m\u001b[0m\u001b[0m\n\u001b[0;32m      3\u001b[0m \u001b[0my\u001b[0m \u001b[1;33m=\u001b[0m \u001b[0mb\u001b[0m\u001b[1;33m[\u001b[0m\u001b[1;34m'Fact'\u001b[0m\u001b[1;33m]\u001b[0m\u001b[1;33m\u001b[0m\u001b[1;33m\u001b[0m\u001b[0m\n\u001b[1;32m----> 4\u001b[1;33m \u001b[0mfunc\u001b[0m \u001b[1;33m=\u001b[0m \u001b[0mA\u001b[0m\u001b[1;33m*\u001b[0m\u001b[1;33m(\u001b[0m\u001b[1;36m1\u001b[0m\u001b[1;33m+\u001b[0m\u001b[0mnp\u001b[0m\u001b[1;33m.\u001b[0m\u001b[0merf\u001b[0m\u001b[1;33m(\u001b[0m\u001b[1;33m(\u001b[0m\u001b[0mx\u001b[0m\u001b[1;33m-\u001b[0m\u001b[0mD50\u001b[0m\u001b[1;33m)\u001b[0m\u001b[1;33m/\u001b[0m\u001b[1;33m(\u001b[0m\u001b[0msqrt\u001b[0m\u001b[1;33m(\u001b[0m\u001b[1;36m2\u001b[0m\u001b[1;33m)\u001b[0m\u001b[1;33m*\u001b[0m\u001b[0msigma\u001b[0m\u001b[1;33m)\u001b[0m\u001b[1;33m)\u001b[0m\u001b[1;33m,\u001b[0m\u001b[0mx\u001b[0m\u001b[1;33m,\u001b[0m\u001b[0my\u001b[0m\u001b[1;33m)\u001b[0m\u001b[1;33m\u001b[0m\u001b[1;33m\u001b[0m\u001b[0m\n\u001b[0m\u001b[0;32m      5\u001b[0m \u001b[0mpopt\u001b[0m\u001b[1;33m,\u001b[0m \u001b[0mpcov\u001b[0m \u001b[1;33m=\u001b[0m \u001b[0mcurve_fit\u001b[0m\u001b[1;33m(\u001b[0m\u001b[0mfunc\u001b[0m\u001b[1;33m,\u001b[0m \u001b[0mx\u001b[0m\u001b[1;33m,\u001b[0m \u001b[0my\u001b[0m\u001b[1;33m)\u001b[0m\u001b[1;33m\u001b[0m\u001b[1;33m\u001b[0m\u001b[0m\n",
      "\u001b[1;31mNameError\u001b[0m: name 'A' is not defined"
     ]
    }
   ],
   "source": [
    "# 拟合结果\n",
    "from scipy.optimize import curve_fit\n",
    "x = a['Dd']\n",
    "y = b['Fact']\n",
    "func = A*(1+np.erf((x-D50)/(np.sqrt(2)*sigma)),x,y,A,D50,sigma)\n",
    "popt, pcov = curve_fit(func, x, y)"
   ]
  }
 ],
 "metadata": {
  "interpreter": {
   "hash": "ad2bdc8ecc057115af97d19610ffacc2b4e99fae6737bb82f5d7fb13d2f2c186"
  },
  "kernelspec": {
   "display_name": "Python 3.8.8 ('base')",
   "language": "python",
   "name": "python3"
  },
  "language_info": {
   "codemirror_mode": {
    "name": "ipython",
    "version": 3
   },
   "file_extension": ".py",
   "mimetype": "text/x-python",
   "name": "python",
   "nbconvert_exporter": "python",
   "pygments_lexer": "ipython3",
   "version": "3.8.8"
  },
  "orig_nbformat": 4
 },
 "nbformat": 4,
 "nbformat_minor": 2
}
