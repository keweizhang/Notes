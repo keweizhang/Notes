{
 "cells": [
  {
   "cell_type": "code",
   "execution_count": 1,
   "metadata": {},
   "outputs": [],
   "source": [
    "import netCDF4 as nc\n",
    "from netCDF4 import Dataset\n",
    "import os\n",
    "import pandas as pd\n",
    "import xarray as xr"
   ]
  },
  {
   "cell_type": "code",
   "execution_count": null,
   "metadata": {},
   "outputs": [],
   "source": [
    "path = r\"D:\\hz_4n_36_1km_case\\MEIC_emis\\meic_local\\d04_raw\"\n",
    "path2 = r\"D:\\萧山json\\萧山核心区属性表\"\n",
    "path3 = r\"D:\\hz_4n_36_1km_case\\MEIC_emis\\meic_local\\test3\"\n",
    "\n",
    "file1 = r\"tra_9\"\n",
    "file2 = r\"tra_10\"\n",
    "\n",
    "file3 = r\"all_gird_emis_Sep.xlsx\"\n",
    "file4 = r\"all_gird_emis_Oct.xlsx\""
   ]
  },
  {
   "cell_type": "code",
   "execution_count": 7,
   "metadata": {},
   "outputs": [],
   "source": [
    "path = './d04_raw/'\n",
    "file2 = 'tra_10'\n",
    "emis_nc = xr.open_dataset(os.path.join(path,file2))"
   ]
  },
  {
   "cell_type": "code",
   "execution_count": 9,
   "metadata": {},
   "outputs": [],
   "source": [
    "path2 = './xiaoshan_emis/'\n",
    "file3 = \"all_gird_emis_Sep.xlsx\"\n",
    "emis_grid = pd.read_excel(os.path.join(path2,file3),sheet_name=\"nc_data\")"
   ]
  },
  {
   "cell_type": "code",
   "execution_count": 10,
   "metadata": {},
   "outputs": [],
   "source": [
    "row_list = emis_grid[\"ROW\"].to_list()\n",
    "col_list = emis_grid[\"COL\"].to_list()"
   ]
  },
  {
   "cell_type": "code",
   "execution_count": null,
   "metadata": {},
   "outputs": [],
   "source": [
    "list1 = [\"VOC\",\"CO\",\"NOx\",\"SO2\",\"PM2_5\",\"PMcoarse\"]\n",
    "\n",
    "for poll in list1:\n",
    "    poll_nc = emis_nc[poll]\n",
    "    for i in range(len(emis_grid)):\n",
    "        row = row_list[i]\n",
    "        col = col_list[i]\n",
    "        a = emis_grid[(emis_grid.ROW==row) &(emis_grid.COL==col)][poll]\n",
    "        a = float(a)\n",
    "        poll_nc[0,0,row,col]=a*0.000001"
   ]
  },
  {
   "cell_type": "code",
   "execution_count": 24,
   "metadata": {},
   "outputs": [],
   "source": [
    "poll = 'PMcoarse'\n",
    "b = emis_grid.loc[:,poll]"
   ]
  },
  {
   "cell_type": "code",
   "execution_count": 25,
   "metadata": {},
   "outputs": [],
   "source": [
    "poll = 'PMcoarse'\n",
    "poll_nc = emis_nc[poll]\n",
    "i=0\n",
    "row = row_list[i]\n",
    "col = col_list[i]\n",
    "a = emis_grid[(emis_grid.ROW==row) &(emis_grid.COL==col)][poll]\n",
    "a = float(a)"
   ]
  },
  {
   "cell_type": "code",
   "execution_count": 26,
   "metadata": {},
   "outputs": [],
   "source": [
    "aa = float(emis_grid.loc[(emis_grid.ROW==row) & (emis_grid.COL==col), poll])"
   ]
  },
  {
   "cell_type": "code",
   "execution_count": 29,
   "metadata": {},
   "outputs": [
    {
     "name": "stdout",
     "output_type": "stream",
     "text": [
      "<xarray.DataArray 'PMcoarse' ()>\n",
      "array(0.000573, dtype=float32)\n",
      "Attributes:\n",
      "    long_name:  PMcoarse        \n",
      "    units:      tons/grid       \n",
      "    var_desc:   PMcoarse                                                     ...\n",
      "<xarray.DataArray 'PMcoarse' ()>\n",
      "array(0.00034, dtype=float32)\n",
      "Attributes:\n",
      "    long_name:  PMcoarse        \n",
      "    units:      tons/grid       \n",
      "    var_desc:   PMcoarse                                                     ...\n"
     ]
    }
   ],
   "source": [
    "print(poll_nc[0,0,row,col])\n",
    "poll_nc[0,0,row,col]=a*0.000001\n",
    "poll_nc2 = emis_nc[poll]\n",
    "print(poll_nc2[0,0,row,col])"
   ]
  }
 ],
 "metadata": {
  "kernelspec": {
   "display_name": "Python 3.8.11 ('ML')",
   "language": "python",
   "name": "python3"
  },
  "language_info": {
   "codemirror_mode": {
    "name": "ipython",
    "version": 3
   },
   "file_extension": ".py",
   "mimetype": "text/x-python",
   "name": "python",
   "nbconvert_exporter": "python",
   "pygments_lexer": "ipython3",
   "version": "3.8.11"
  },
  "orig_nbformat": 4,
  "vscode": {
   "interpreter": {
    "hash": "fd4731469ae249a109759680acf9a8ce22556edb0e6c22c7c6606d8b89f6c798"
   }
  }
 },
 "nbformat": 4,
 "nbformat_minor": 2
}
