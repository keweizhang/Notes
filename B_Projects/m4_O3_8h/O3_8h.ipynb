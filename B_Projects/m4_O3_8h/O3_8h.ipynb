{
 "cells": [
  {
   "cell_type": "code",
   "execution_count": 3,
   "metadata": {},
   "outputs": [],
   "source": [
    "import pandas as pd\n",
    "import numpy as np\n",
    "import os,sys\n",
    "import os,sys,glob"
   ]
  },
  {
   "cell_type": "code",
   "execution_count": 1,
   "metadata": {},
   "outputs": [],
   "source": [
    "path = \"./\"\n",
    "\n",
    "file = \"d02-base-v3.0_plot_obs_mod_O3.xlsx\"\n",
    "\n",
    "outpath = \"./\""
   ]
  },
  {
   "cell_type": "code",
   "execution_count": 4,
   "metadata": {},
   "outputs": [
    {
     "name": "stdout",
     "output_type": "stream",
     "text": [
      "              BJ_time      site       base\n",
      "0 2021-09-17 00:00:00  shanghai  60.194157\n",
      "1 2021-09-17 01:00:00  shanghai  59.105814\n",
      "2 2021-09-17 02:00:00  shanghai  58.142250\n",
      "3 2021-09-17 03:00:00  shanghai  59.082964\n",
      "4 2021-09-17 04:00:00  shanghai  63.628771\n"
     ]
    }
   ],
   "source": [
    "df=pd.read_excel(os.path.join(path,file))\n",
    "\n",
    "print(df.head())"
   ]
  },
  {
   "cell_type": "code",
   "execution_count": 7,
   "metadata": {},
   "outputs": [],
   "source": [
    "city_list = [\"hangzhou\",\"hefei\",\"nanjing\",\"shanghai\",\"shaoxing\",\"jiaxing\"]\n",
    "df_all=pd.DataFrame()"
   ]
  },
  {
   "cell_type": "code",
   "execution_count": 6,
   "metadata": {},
   "outputs": [],
   "source": [
    "a = city_list[1]"
   ]
  }
 ],
 "metadata": {
  "kernelspec": {
   "display_name": "Python 3.8.11 ('ML')",
   "language": "python",
   "name": "python3"
  },
  "language_info": {
   "codemirror_mode": {
    "name": "ipython",
    "version": 3
   },
   "file_extension": ".py",
   "mimetype": "text/x-python",
   "name": "python",
   "nbconvert_exporter": "python",
   "pygments_lexer": "ipython3",
   "version": "3.8.11"
  },
  "orig_nbformat": 4,
  "vscode": {
   "interpreter": {
    "hash": "fd4731469ae249a109759680acf9a8ce22556edb0e6c22c7c6606d8b89f6c798"
   }
  }
 },
 "nbformat": 4,
 "nbformat_minor": 2
}
