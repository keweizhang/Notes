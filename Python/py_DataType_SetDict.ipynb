{
 "cells": [
  {
   "cell_type": "markdown",
   "metadata": {},
   "source": [
    "# 集合与字典"
   ]
  },
  {
   "cell_type": "markdown",
   "metadata": {},
   "source": [
    "## 集合 set\n",
    "\n",
    "### 定义\n",
    "\n",
    "无序不重复元素的集，常用来消除重复元素，与数学意义上的集合相似\n",
    "\n",
    "### 创建\n",
    "\n",
    "`{}`中用`,`分隔元素，如果是空集，必须用函数`set()`创建\n",
    "\n",
    "### 增\n",
    "\n",
    "`.add(elem)`方法添加元素进集合\n",
    "\n",
    "### 删\n",
    "\n",
    "`.pop()`方法随机删除一个元素，该方法不接受参数\n",
    "\n",
    "### 运算\n",
    "\n",
    "`A & B`：交集运算，获得同时存在于两个集合中的元素\n",
    "\n",
    "`A | B`：并集运算，获得存在A或者B中的元素\n",
    "\n",
    "`A - B`：差集运算，存在A中，但是不存在B中的元素\n",
    "\n",
    "`A ^ B`：对称差集运算，存在A中，或者B中，但是不同时属于二者的元素\n"
   ]
  },
  {
   "cell_type": "markdown",
   "metadata": {},
   "source": [
    "## 字典 dict\n",
    "\n",
    "### 定义\n",
    "\n",
    "无序键值对`key:value`的集合，同一个字典内的键必须是互不相同的\n",
    "\n",
    "### 创建\n",
    "\n",
    "#### 手动创建\n",
    "\n",
    "`{}`内用`,`分隔`key:value` 键值对\n",
    "\n",
    "空字典为 `a = {}`"
   ]
  },
  {
   "cell_type": "code",
   "execution_count": 1,
   "metadata": {},
   "outputs": [
    {
     "data": {
      "text/plain": [
       "{'a': 1, 'b': 2, 'c': 3}"
      ]
     },
     "execution_count": 1,
     "metadata": {},
     "output_type": "execute_result"
    }
   ],
   "source": [
    "b = {'a':1,'b':2,'c':3}\n",
    "b"
   ]
  },
  {
   "cell_type": "markdown",
   "metadata": {},
   "source": [
    "#### 元组转化\n",
    "\n",
    "函数`dic()`可以将包含键值对的元组转化为字典"
   ]
  },
  {
   "cell_type": "code",
   "execution_count": 3,
   "metadata": {},
   "outputs": [
    {
     "data": {
      "text/plain": [
       "{'1': 1, '2': 'jiqw', '3': 1372}"
      ]
     },
     "execution_count": 3,
     "metadata": {},
     "output_type": "execute_result"
    }
   ],
   "source": [
    "cc = [('1',1),('2','jiqw'),('3',1372)]        \n",
    "dict(cc)"
   ]
  },
  {
   "cell_type": "markdown",
   "metadata": {},
   "source": [
    "### 增\n",
    "\n",
    "`dictName[newKey] = newValue`\n",
    "\n",
    "### 删\n",
    "\n",
    "`del dictName[key]` 语句删除字典中的特定键\n",
    "\n",
    "`.pop(key)` 方法删除字典中的特定键\n",
    "\n",
    "### 改\n",
    "\n",
    "索引key 再赋值即可\n",
    "\n",
    "### 查\n",
    "\n",
    "索引`key`进行查找，对于不存在的key会报错\n",
    "\n",
    "`.get(key,default)`方法可以获得key对应的value，如果不存在，则返回default值，缺省时什么都不返回\n",
    "\n",
    "创建默认值\n",
    "\n",
    ".setdefault(key,defaultValue) 方法用来创建默认值，如果key 存在，则返回已有值"
   ]
  }
 ],
 "metadata": {
  "interpreter": {
   "hash": "b649516e227f65df0a82e1cca2ff220c8717b99ac6f5f44446ac0f0029e50112"
  },
  "kernelspec": {
   "display_name": "Python 3",
   "language": "python",
   "name": "python3"
  },
  "language_info": {
   "codemirror_mode": {
    "name": "ipython",
    "version": 3
   },
   "file_extension": ".py",
   "mimetype": "text/x-python",
   "name": "python",
   "nbconvert_exporter": "python",
   "pygments_lexer": "ipython3",
   "version": "3.8.11"
  }
 },
 "nbformat": 4,
 "nbformat_minor": 2
}
