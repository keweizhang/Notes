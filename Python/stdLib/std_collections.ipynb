{
 "cells": [
  {
   "cell_type": "code",
   "execution_count": 3,
   "metadata": {},
   "outputs": [],
   "source": [
    "from collections import OrderedDict"
   ]
  },
  {
   "cell_type": "code",
   "execution_count": 4,
   "metadata": {},
   "outputs": [
    {
     "name": "stdout",
     "output_type": "stream",
     "text": [
      "OrderedDict([('k1', 'v1'), ('k2', 'v2'), ('k3', 'v3')])\n"
     ]
    }
   ],
   "source": [
    "dic = OrderedDict()\n",
    "dic['k1'] = 'v1'\n",
    "dic['k2'] = 'v2'\n",
    "dic['k3'] = 'v3'\n",
    "print(dic)"
   ]
  },
  {
   "cell_type": "code",
   "execution_count": 16,
   "metadata": {},
   "outputs": [
    {
     "name": "stdout",
     "output_type": "stream",
     "text": [
      "OrderedDict([('tom', None), ('lucy', None), ('sam', None)])\n",
      "OrderedDict([('tom', 20), ('lucy', 20), ('sam', 20)])\n",
      "OrderedDict([('tom', 20), ('lucy', 20), ('sam', 20)])\n"
     ]
    }
   ],
   "source": [
    "dic = OrderedDict()\n",
    "keys = ['tom','lucy','sam']\n",
    "values = [175, 180, 178]\n",
    "print(dic.fromkeys(keys))\n",
    "print(dic.fromkeys(keys,20))\n",
    "dic = dic.fromkeys(keys,20)\n",
    "print(dic)\n",
    "# print(dic.fromkeys(keys,values))"
   ]
  },
  {
   "cell_type": "code",
   "execution_count": 18,
   "metadata": {},
   "outputs": [
    {
     "name": "stdout",
     "output_type": "stream",
     "text": [
      "OrderedDict([('lucy', 20), ('sam', 20)])\n"
     ]
    }
   ],
   "source": [
    "dic['michale'] = 21\n",
    "print(dic)"
   ]
  },
  {
   "cell_type": "code",
   "execution_count": 23,
   "metadata": {},
   "outputs": [
    {
     "name": "stdout",
     "output_type": "stream",
     "text": [
      "v3 OrderedDict([('k1', 'v1'), ('k2', 'v2'), ('k3', 'v3')])\n",
      "None OrderedDict([('k1', 'v1'), ('k2', 'v2'), ('k3', 'v3'), ('k5', None)])\n"
     ]
    }
   ],
   "source": [
    "dic = OrderedDict()\n",
    "dic['k1'] = 'v1'\n",
    "dic['k2'] = 'v2'\n",
    "dic['k3'] = 'v3'\n",
    "val1 = dic.setdefault('k3')\n",
    "print(val1,dic)\n",
    "val2 = dic.setdefault('k5')\n",
    "print(val2,dic)\n",
    "\n",
    "# 输出：None OrderedDict([('k1', 'v1'), ('k2', 'v2'), ('k3', 'v3'), ('k5', None)])"
   ]
  }
 ],
 "metadata": {
  "interpreter": {
   "hash": "ad2bdc8ecc057115af97d19610ffacc2b4e99fae6737bb82f5d7fb13d2f2c186"
  },
  "kernelspec": {
   "display_name": "Python 3.8.8 ('base')",
   "language": "python",
   "name": "python3"
  },
  "language_info": {
   "codemirror_mode": {
    "name": "ipython",
    "version": 3
   },
   "file_extension": ".py",
   "mimetype": "text/x-python",
   "name": "python",
   "nbconvert_exporter": "python",
   "pygments_lexer": "ipython3",
   "version": "3.8.8"
  },
  "orig_nbformat": 4
 },
 "nbformat": 4,
 "nbformat_minor": 2
}
